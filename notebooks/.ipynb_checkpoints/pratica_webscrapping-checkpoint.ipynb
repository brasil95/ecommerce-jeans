{
 "cells": [
  {
   "cell_type": "markdown",
   "id": "450a1e92",
   "metadata": {},
   "source": [
    "# Praticando BeautifulSoup"
   ]
  },
  {
   "cell_type": "markdown",
   "id": "41c06c3e",
   "metadata": {},
   "source": [
    "## Importando bibliotecas"
   ]
  },
  {
   "cell_type": "code",
   "execution_count": 1,
   "id": "be52864a",
   "metadata": {
    "ExecuteTime": {
     "end_time": "2022-06-01T20:41:45.637829Z",
     "start_time": "2022-06-01T20:41:43.482101Z"
    }
   },
   "outputs": [],
   "source": [
    "import requests\n",
    "import pandas as pd\n",
    "from datetime import datetime\n",
    "from bs4 import BeautifulSoup"
   ]
  },
  {
   "cell_type": "markdown",
   "id": "66d9d9f6",
   "metadata": {},
   "source": [
    "## Iniciando o navegador"
   ]
  },
  {
   "cell_type": "code",
   "execution_count": 4,
   "id": "16766998",
   "metadata": {
    "ExecuteTime": {
     "end_time": "2022-06-01T21:10:20.466185Z",
     "start_time": "2022-06-01T21:10:19.553799Z"
    }
   },
   "outputs": [],
   "source": [
    "url = 'https://books.toscrape.com/'\n",
    "headers = {'User-Agent': 'Mozilla/5.0 (Macintosh; Intel Mac OS X 10_11_5) AppleWebKit/537.36 (KHTML, like Gecko) Chrome/50.0.2661.102 Safari/537.36'}\n",
    "page = requests.get(url, headers=headers)"
   ]
  },
  {
   "cell_type": "code",
   "execution_count": 11,
   "id": "874a4476",
   "metadata": {
    "ExecuteTime": {
     "end_time": "2022-06-01T21:11:56.995151Z",
     "start_time": "2022-06-01T21:11:56.956866Z"
    }
   },
   "outputs": [],
   "source": [
    "soup = BeautifulSoup(page.text, 'html.parser')"
   ]
  },
  {
   "cell_type": "markdown",
   "id": "d0dd7d66",
   "metadata": {},
   "source": [
    "## Buscando as informações"
   ]
  },
  {
   "cell_type": "code",
   "execution_count": 106,
   "id": "5f1e09b7",
   "metadata": {
    "ExecuteTime": {
     "end_time": "2022-06-01T22:15:46.156429Z",
     "start_time": "2022-06-01T22:15:46.135381Z"
    }
   },
   "outputs": [],
   "source": [
    "products = soup.find('ol', class_='row')"
   ]
  },
  {
   "cell_type": "code",
   "execution_count": 219,
   "id": "994362fa",
   "metadata": {
    "ExecuteTime": {
     "end_time": "2022-06-01T22:56:02.822224Z",
     "start_time": "2022-06-01T22:56:02.814053Z"
    }
   },
   "outputs": [],
   "source": [
    "product_list = soup.find_all('h3')\n",
    "\n",
    "# nome do livro\n",
    "nome = [p.a['title'] for p in product_list]  "
   ]
  },
  {
   "cell_type": "code",
   "execution_count": 115,
   "id": "be8a1f12",
   "metadata": {
    "ExecuteTime": {
     "end_time": "2022-06-01T22:18:21.830130Z",
     "start_time": "2022-06-01T22:18:21.799948Z"
    }
   },
   "outputs": [],
   "source": [
    "product_list = soup.find_all('p', class_='price_color')\n",
    "\n",
    "# preço\n",
    "preco = [p.get_text() for p in product_list] "
   ]
  },
  {
   "cell_type": "code",
   "execution_count": 124,
   "id": "8c683d1f",
   "metadata": {
    "ExecuteTime": {
     "end_time": "2022-06-01T22:19:27.572345Z",
     "start_time": "2022-06-01T22:19:27.549367Z"
    }
   },
   "outputs": [],
   "source": [
    "product_list = products.find_all('p', class_=['star-rating'])\n",
    "\n",
    "# avaliação\n",
    "avaliacao = [p.get(\"class\")[1] for p in product_list]"
   ]
  },
  {
   "cell_type": "code",
   "execution_count": 110,
   "id": "7afb179e",
   "metadata": {
    "ExecuteTime": {
     "end_time": "2022-06-01T22:15:48.983288Z",
     "start_time": "2022-06-01T22:15:48.969069Z"
    }
   },
   "outputs": [],
   "source": [
    "product_list = soup.find_all('p', class_='instock availability')\n",
    "\n",
    "# disponilidade do estoque\n",
    "estoque = [p.get_text() for p in product_list] "
   ]
  },
  {
   "cell_type": "markdown",
   "id": "22a6d0b5",
   "metadata": {},
   "source": [
    "## Tratando e Limpando as informações"
   ]
  }
 ],
 "metadata": {
  "kernelspec": {
   "display_name": "Python [conda env:dsaodev] *",
   "language": "python",
   "name": "conda-env-dsaodev-py"
  },
  "language_info": {
   "codemirror_mode": {
    "name": "ipython",
    "version": 3
   },
   "file_extension": ".py",
   "mimetype": "text/x-python",
   "name": "python",
   "nbconvert_exporter": "python",
   "pygments_lexer": "ipython3",
   "version": "3.8.0"
  }
 },
 "nbformat": 4,
 "nbformat_minor": 5
}
